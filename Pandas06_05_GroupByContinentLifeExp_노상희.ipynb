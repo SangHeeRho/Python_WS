{
 "cells": [
  {
   "cell_type": "code",
   "execution_count": 7,
   "metadata": {
    "scrolled": true
   },
   "outputs": [
    {
     "name": "stdout",
     "output_type": "stream",
     "text": [
      "continent\n",
      "Africa      624\n",
      "Americas    300\n",
      "Asia        396\n",
      "Europe      360\n",
      "Oceania      24\n",
      "Name: lifeExp, dtype: int64\n"
     ]
    }
   ],
   "source": [
    "#대륙별 기대수명의 평균을 확인하세요(2가지)\n",
    "import pandas as pd\n",
    "df=pd.read_csv('./data/gapminder.tsv',sep='\\t')\n",
    "print(df.groupby('continent')['lifeExp'].count())"
   ]
  },
  {
   "cell_type": "code",
   "execution_count": 8,
   "metadata": {},
   "outputs": [
    {
     "name": "stdout",
     "output_type": "stream",
     "text": [
      "pandas.core.groupby.generic.DataFrameGroupBy\n",
      "<pandas.core.groupby.generic.SeriesGroupBy object at 0x000001DA2FFEA860>\n"
     ]
    }
   ],
   "source": [
    "grouped_con_df=df.groupby('continent')\n",
    "print(type(grouped_con_df))\n",
    "print(grouped_con_df['lifeExp'])"
   ]
  },
  {
   "cell_type": "code",
   "execution_count": 10,
   "metadata": {},
   "outputs": [
    {
     "data": {
      "text/plain": [
       "continent\n",
       "Africa      48.865330\n",
       "Americas    64.658737\n",
       "Asia        60.064903\n",
       "Europe      71.903686\n",
       "Oceania     74.326208\n",
       "Name: lifeExp, dtype: float64"
      ]
     },
     "execution_count": 10,
     "metadata": {},
     "output_type": "execute_result"
    }
   ],
   "source": [
    "grouped_con_df['lifeExp'].mean()\n",
    "\n",
    "# for idx in uniList:\n",
    "#     print(idx)\n",
    "#     grYear=df[df['year']==idx]\n",
    "#     print(len(grYear),\"\\n====>2 \\n\",grYear.head(3),grYear.shape)\n",
    "#     print(grYear['lifeExp'].mean())"
   ]
  },
  {
   "cell_type": "code",
   "execution_count": null,
   "metadata": {},
   "outputs": [],
   "source": []
  }
 ],
 "metadata": {
  "kernelspec": {
   "display_name": "Python 3",
   "language": "python",
   "name": "python3"
  },
  "language_info": {
   "codemirror_mode": {
    "name": "ipython",
    "version": 3
   },
   "file_extension": ".py",
   "mimetype": "text/x-python",
   "name": "python",
   "nbconvert_exporter": "python",
   "pygments_lexer": "ipython3",
   "version": "3.6.5"
  }
 },
 "nbformat": 4,
 "nbformat_minor": 2
}
