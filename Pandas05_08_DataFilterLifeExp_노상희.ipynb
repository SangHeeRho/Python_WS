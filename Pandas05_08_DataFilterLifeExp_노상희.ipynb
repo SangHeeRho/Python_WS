{
 "cells": [
  {
   "cell_type": "code",
   "execution_count": 1,
   "metadata": {},
   "outputs": [],
   "source": [
    "import pandas as pd"
   ]
  },
  {
   "cell_type": "code",
   "execution_count": 2,
   "metadata": {},
   "outputs": [
    {
     "name": "stdout",
     "output_type": "stream",
     "text": [
      "0    4\n",
      "1    2\n",
      "2    0\n",
      "3    8\n",
      "dtype: int64\n",
      "8\n",
      "0\n"
     ]
    }
   ],
   "source": [
    "s=pd.Series([4,2,0,8])\n",
    "print(s)\n",
    "print(s.max())\n",
    "print(s.min())\n",
    "\n",
    "#문제] 최대 기대 수명, 최소 기대 수명 출력\n",
    "#[loc,iloc, 컬럼명 3가지로 확인]"
   ]
  },
  {
   "cell_type": "code",
   "execution_count": 22,
   "metadata": {},
   "outputs": [],
   "source": [
    "df=pd.read_csv('./data/gapminder.tsv',sep='\\t')"
   ]
  },
  {
   "cell_type": "code",
   "execution_count": 32,
   "metadata": {},
   "outputs": [
    {
     "name": "stdout",
     "output_type": "stream",
     "text": [
      "0       28.801\n",
      "1       30.332\n",
      "2       31.997\n",
      "3       34.020\n",
      "4       36.088\n",
      "         ...  \n",
      "1699    62.351\n",
      "1700    60.377\n",
      "1701    46.809\n",
      "1702    39.989\n",
      "1703    43.487\n",
      "Name: lifeExp, Length: 1704, dtype: float64\n",
      "82.603\n",
      "23.599\n"
     ]
    }
   ],
   "source": [
    "print(df['lifeExp'])\n",
    "print(max(df['lifeExp']))\n",
    "print(min(df['lifeExp']))\n",
    "\n",
    "print('='*15)\n",
    "\n",
    "print(max(df.loc[:,'lifeExp']))\n",
    "print(min(df.loc[:,'lifeExp']))\n",
    "\n",
    "print('='*15)\n",
    "\n",
    "print(max(df.iloc[:len(df)+1,3]))(#최대수명\n",
    "print(min(df.iloc[:len(df)+1)))"
   ]
  },
  {
   "cell_type": "code",
   "execution_count": 25,
   "metadata": {},
   "outputs": [
    {
     "name": "stdout",
     "output_type": "stream",
     "text": [
      "country        Zimbabwe\n",
      "continent       Oceania\n",
      "year               2007\n",
      "lifeExp          82.603\n",
      "pop          1318683096\n",
      "gdpPercap        113523\n",
      "dtype: object\n",
      "country      Afghanistan\n",
      "continent         Africa\n",
      "year                1952\n",
      "lifeExp           23.599\n",
      "pop                60011\n",
      "gdpPercap        241.166\n",
      "dtype: object\n"
     ]
    }
   ],
   "source": [
    "df.loc[:3]\n",
    "print(df.max())\n",
    "print(df.min())"
   ]
  },
  {
   "cell_type": "code",
   "execution_count": 29,
   "metadata": {},
   "outputs": [
    {
     "name": "stdout",
     "output_type": "stream",
     "text": [
      "country        Zimbabwe\n",
      "continent       Oceania\n",
      "year               2007\n",
      "lifeExp          82.603\n",
      "pop          1318683096\n",
      "gdpPercap        113523\n",
      "dtype: object\n",
      "country      Afghanistan\n",
      "continent         Africa\n",
      "year                1952\n",
      "lifeExp           23.599\n",
      "pop                60011\n",
      "gdpPercap        241.166\n",
      "dtype: object\n"
     ]
    }
   ],
   "source": [
    "df.iloc[:3]\n",
    "print(df.max())\n",
    "print(df.min())"
   ]
  },
  {
   "cell_type": "code",
   "execution_count": null,
   "metadata": {},
   "outputs": [],
   "source": []
  }
 ],
 "metadata": {
  "kernelspec": {
   "display_name": "Python 3",
   "language": "python",
   "name": "python3"
  },
  "language_info": {
   "codemirror_mode": {
    "name": "ipython",
    "version": 3
   },
   "file_extension": ".py",
   "mimetype": "text/x-python",
   "name": "python",
   "nbconvert_exporter": "python",
   "pygments_lexer": "ipython3",
   "version": "3.6.5"
  }
 },
 "nbformat": 4,
 "nbformat_minor": 2
}
