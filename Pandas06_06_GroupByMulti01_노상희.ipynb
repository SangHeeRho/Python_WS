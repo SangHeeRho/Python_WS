{
 "cells": [
  {
   "cell_type": "code",
   "execution_count": 2,
   "metadata": {},
   "outputs": [
    {
     "name": "stdout",
     "output_type": "stream",
     "text": [
      "<pandas.core.groupby.generic.SeriesGroupBy object at 0x0000025480C95198>\n"
     ]
    }
   ],
   "source": [
    "#year, continent 별 기대수명?\n",
    "\n",
    "import pandas\n",
    "df=pandas.read_csv('./data/gapminder.tsv',sep='\\t')\n",
    "\n",
    "multi_group_var=df.groupby(['year','continent'])['lifeExp']\n",
    "print(multi_group_var)\n"
   ]
  },
  {
   "cell_type": "code",
   "execution_count": 3,
   "metadata": {},
   "outputs": [
    {
     "name": "stdout",
     "output_type": "stream",
     "text": [
      "year  continent\n",
      "1952  Africa       39.135500\n",
      "      Americas     53.279840\n",
      "      Asia         46.314394\n",
      "      Europe       64.408500\n",
      "      Oceania      69.255000\n",
      "1957  Africa       41.266346\n",
      "      Americas     55.960280\n",
      "      Asia         49.318544\n",
      "      Europe       66.703067\n",
      "      Oceania      70.295000\n",
      "1962  Africa       43.319442\n",
      "      Americas     58.398760\n",
      "      Asia         51.563223\n",
      "      Europe       68.539233\n",
      "      Oceania      71.085000\n",
      "1967  Africa       45.334538\n",
      "      Americas     60.410920\n",
      "      Asia         54.663640\n",
      "      Europe       69.737600\n",
      "      Oceania      71.310000\n",
      "1972  Africa       47.450942\n",
      "      Americas     62.394920\n",
      "      Asia         57.319269\n",
      "      Europe       70.775033\n",
      "      Oceania      71.910000\n",
      "1977  Africa       49.580423\n",
      "      Americas     64.391560\n",
      "      Asia         59.610556\n",
      "      Europe       71.937767\n",
      "      Oceania      72.855000\n",
      "1982  Africa       51.592865\n",
      "      Americas     66.228840\n",
      "      Asia         62.617939\n",
      "      Europe       72.806400\n",
      "      Oceania      74.290000\n",
      "1987  Africa       53.344788\n",
      "      Americas     68.090720\n",
      "      Asia         64.851182\n",
      "      Europe       73.642167\n",
      "      Oceania      75.320000\n",
      "1992  Africa       53.629577\n",
      "      Americas     69.568360\n",
      "      Asia         66.537212\n",
      "      Europe       74.440100\n",
      "      Oceania      76.945000\n",
      "1997  Africa       53.598269\n",
      "      Americas     71.150480\n",
      "      Asia         68.020515\n",
      "      Europe       75.505167\n",
      "      Oceania      78.190000\n",
      "2002  Africa       53.325231\n",
      "      Americas     72.422040\n",
      "      Asia         69.233879\n",
      "      Europe       76.700600\n",
      "      Oceania      79.740000\n",
      "2007  Africa       54.806038\n",
      "      Americas     73.608120\n",
      "      Asia         70.728485\n",
      "      Europe       77.648600\n",
      "      Oceania      80.719500\n",
      "Name: lifeExp, dtype: float64\n",
      "60\n"
     ]
    }
   ],
   "source": [
    "print(multi_group_var.mean())\n",
    "print(multi_group_var.mean().count())"
   ]
  },
  {
   "cell_type": "code",
   "execution_count": null,
   "metadata": {},
   "outputs": [],
   "source": []
  }
 ],
 "metadata": {
  "kernelspec": {
   "display_name": "Python 3",
   "language": "python",
   "name": "python3"
  },
  "language_info": {
   "codemirror_mode": {
    "name": "ipython",
    "version": 3
   },
   "file_extension": ".py",
   "mimetype": "text/x-python",
   "name": "python",
   "nbconvert_exporter": "python",
   "pygments_lexer": "ipython3",
   "version": "3.6.5"
  }
 },
 "nbformat": 4,
 "nbformat_minor": 2
}
