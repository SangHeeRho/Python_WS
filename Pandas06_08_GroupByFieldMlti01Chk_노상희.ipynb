{
 "cells": [
  {
   "cell_type": "code",
   "execution_count": 1,
   "metadata": {},
   "outputs": [],
   "source": [
    "import pandas\n",
    "df=pandas.read_csv('./data/gapminder.tsv',sep='\\t')"
   ]
  },
  {
   "cell_type": "code",
   "execution_count": 2,
   "metadata": {},
   "outputs": [],
   "source": [
    "uniqueyear=df['year'].unique()\n",
    "uniquecon=df['continent'].unique()"
   ]
  },
  {
   "cell_type": "code",
   "execution_count": 3,
   "metadata": {},
   "outputs": [
    {
     "name": "stdout",
     "output_type": "stream",
     "text": [
      "1952년    Asia   지역 기대수명 평균 : 46.31   gdp 평균 : 5195.48\n",
      "1952년   Europe  지역 기대수명 평균 : 64.41   gdp 평균 : 5661.06\n",
      "1952년   Africa  지역 기대수명 평균 : 39.14   gdp 평균 : 1252.57\n",
      "1952년  Americas 지역 기대수명 평균 : 53.28   gdp 평균 : 4079.06\n",
      "1952년  Oceania  지역 기대수명 평균 : 69.25   gdp 평균 : 10298.09\n",
      "1957년    Asia   지역 기대수명 평균 : 49.32   gdp 평균 : 5787.73\n",
      "1957년   Europe  지역 기대수명 평균 : 66.70   gdp 평균 : 6963.01\n",
      "1957년   Africa  지역 기대수명 평균 : 41.27   gdp 평균 : 1385.24\n",
      "1957년  Americas 지역 기대수명 평균 : 55.96   gdp 평균 : 4616.04\n",
      "1957년  Oceania  지역 기대수명 평균 : 70.30   gdp 평균 : 11598.52\n",
      "1962년    Asia   지역 기대수명 평균 : 51.56   gdp 평균 : 5729.37\n",
      "1962년   Europe  지역 기대수명 평균 : 68.54   gdp 평균 : 8365.49\n",
      "1962년   Africa  지역 기대수명 평균 : 43.32   gdp 평균 : 1598.08\n",
      "1962년  Americas 지역 기대수명 평균 : 58.40   gdp 평균 : 4901.54\n",
      "1962년  Oceania  지역 기대수명 평균 : 71.09   gdp 평균 : 12696.45\n",
      "1967년    Asia   지역 기대수명 평균 : 54.66   gdp 평균 : 5971.17\n",
      "1967년   Europe  지역 기대수명 평균 : 69.74   gdp 평균 : 10143.82\n",
      "1967년   Africa  지역 기대수명 평균 : 45.33   gdp 평균 : 2050.36\n",
      "1967년  Americas 지역 기대수명 평균 : 60.41   gdp 평균 : 5668.25\n",
      "1967년  Oceania  지역 기대수명 평균 : 71.31   gdp 평균 : 14495.02\n",
      "1972년    Asia   지역 기대수명 평균 : 57.32   gdp 평균 : 8187.47\n",
      "1972년   Europe  지역 기대수명 평균 : 70.78   gdp 평균 : 12479.58\n",
      "1972년   Africa  지역 기대수명 평균 : 47.45   gdp 평균 : 2339.62\n",
      "1972년  Americas 지역 기대수명 평균 : 62.39   gdp 평균 : 6491.33\n",
      "1972년  Oceania  지역 기대수명 평균 : 71.91   gdp 평균 : 16417.33\n",
      "1977년    Asia   지역 기대수명 평균 : 59.61   gdp 평균 : 7791.31\n",
      "1977년   Europe  지역 기대수명 평균 : 71.94   gdp 평균 : 14283.98\n",
      "1977년   Africa  지역 기대수명 평균 : 49.58   gdp 평균 : 2585.94\n",
      "1977년  Americas 지역 기대수명 평균 : 64.39   gdp 평균 : 7352.01\n",
      "1977년  Oceania  지역 기대수명 평균 : 72.85   gdp 평균 : 17283.96\n",
      "1982년    Asia   지역 기대수명 평균 : 62.62   gdp 평균 : 7434.14\n",
      "1982년   Europe  지역 기대수명 평균 : 72.81   gdp 평균 : 15617.90\n",
      "1982년   Africa  지역 기대수명 평균 : 51.59   gdp 평균 : 2481.59\n",
      "1982년  Americas 지역 기대수명 평균 : 66.23   gdp 평균 : 7506.74\n",
      "1982년  Oceania  지역 기대수명 평균 : 74.29   gdp 평균 : 18554.71\n",
      "1987년    Asia   지역 기대수명 평균 : 64.85   gdp 평균 : 7608.23\n",
      "1987년   Europe  지역 기대수명 평균 : 73.64   gdp 평균 : 17214.31\n",
      "1987년   Africa  지역 기대수명 평균 : 53.34   gdp 평균 : 2282.67\n",
      "1987년  Americas 지역 기대수명 평균 : 68.09   gdp 평균 : 7793.40\n",
      "1987년  Oceania  지역 기대수명 평균 : 75.32   gdp 평균 : 20448.04\n",
      "1992년    Asia   지역 기대수명 평균 : 66.54   gdp 평균 : 8639.69\n",
      "1992년   Europe  지역 기대수명 평균 : 74.44   gdp 평균 : 17061.57\n",
      "1992년   Africa  지역 기대수명 평균 : 53.63   gdp 평균 : 2281.81\n",
      "1992년  Americas 지역 기대수명 평균 : 69.57   gdp 평균 : 8044.93\n",
      "1992년  Oceania  지역 기대수명 평균 : 76.94   gdp 평균 : 20894.05\n",
      "1997년    Asia   지역 기대수명 평균 : 68.02   gdp 평균 : 9834.09\n",
      "1997년   Europe  지역 기대수명 평균 : 75.51   gdp 평균 : 19076.78\n",
      "1997년   Africa  지역 기대수명 평균 : 53.60   gdp 평균 : 2378.76\n",
      "1997년  Americas 지역 기대수명 평균 : 71.15   gdp 평균 : 8889.30\n",
      "1997년  Oceania  지역 기대수명 평균 : 78.19   gdp 평균 : 24024.18\n",
      "2002년    Asia   지역 기대수명 평균 : 69.23   gdp 평균 : 10174.09\n",
      "2002년   Europe  지역 기대수명 평균 : 76.70   gdp 평균 : 21711.73\n",
      "2002년   Africa  지역 기대수명 평균 : 53.33   gdp 평균 : 2599.39\n",
      "2002년  Americas 지역 기대수명 평균 : 72.42   gdp 평균 : 9287.68\n",
      "2002년  Oceania  지역 기대수명 평균 : 79.74   gdp 평균 : 26938.78\n",
      "2007년    Asia   지역 기대수명 평균 : 70.73   gdp 평균 : 12473.03\n",
      "2007년   Europe  지역 기대수명 평균 : 77.65   gdp 평균 : 25054.48\n",
      "2007년   Africa  지역 기대수명 평균 : 54.81   gdp 평균 : 3089.03\n",
      "2007년  Americas 지역 기대수명 평균 : 73.61   gdp 평균 : 11003.03\n",
      "2007년  Oceania  지역 기대수명 평균 : 80.72   gdp 평균 : 29810.19\n"
     ]
    },
    {
     "name": "stderr",
     "output_type": "stream",
     "text": [
      "C:\\anaconda3_5.2\\lib\\site-packages\\ipykernel_launcher.py:4: UserWarning: Boolean Series key will be reindexed to match DataFrame index.\n",
      "  after removing the cwd from sys.path.\n",
      "C:\\anaconda3_5.2\\lib\\site-packages\\ipykernel_launcher.py:4: UserWarning: Boolean Series key will be reindexed to match DataFrame index.\n",
      "  after removing the cwd from sys.path.\n",
      "C:\\anaconda3_5.2\\lib\\site-packages\\ipykernel_launcher.py:4: UserWarning: Boolean Series key will be reindexed to match DataFrame index.\n",
      "  after removing the cwd from sys.path.\n",
      "C:\\anaconda3_5.2\\lib\\site-packages\\ipykernel_launcher.py:4: UserWarning: Boolean Series key will be reindexed to match DataFrame index.\n",
      "  after removing the cwd from sys.path.\n",
      "C:\\anaconda3_5.2\\lib\\site-packages\\ipykernel_launcher.py:4: UserWarning: Boolean Series key will be reindexed to match DataFrame index.\n",
      "  after removing the cwd from sys.path.\n",
      "C:\\anaconda3_5.2\\lib\\site-packages\\ipykernel_launcher.py:4: UserWarning: Boolean Series key will be reindexed to match DataFrame index.\n",
      "  after removing the cwd from sys.path.\n",
      "C:\\anaconda3_5.2\\lib\\site-packages\\ipykernel_launcher.py:4: UserWarning: Boolean Series key will be reindexed to match DataFrame index.\n",
      "  after removing the cwd from sys.path.\n",
      "C:\\anaconda3_5.2\\lib\\site-packages\\ipykernel_launcher.py:4: UserWarning: Boolean Series key will be reindexed to match DataFrame index.\n",
      "  after removing the cwd from sys.path.\n",
      "C:\\anaconda3_5.2\\lib\\site-packages\\ipykernel_launcher.py:4: UserWarning: Boolean Series key will be reindexed to match DataFrame index.\n",
      "  after removing the cwd from sys.path.\n",
      "C:\\anaconda3_5.2\\lib\\site-packages\\ipykernel_launcher.py:4: UserWarning: Boolean Series key will be reindexed to match DataFrame index.\n",
      "  after removing the cwd from sys.path.\n",
      "C:\\anaconda3_5.2\\lib\\site-packages\\ipykernel_launcher.py:4: UserWarning: Boolean Series key will be reindexed to match DataFrame index.\n",
      "  after removing the cwd from sys.path.\n",
      "C:\\anaconda3_5.2\\lib\\site-packages\\ipykernel_launcher.py:4: UserWarning: Boolean Series key will be reindexed to match DataFrame index.\n",
      "  after removing the cwd from sys.path.\n"
     ]
    }
   ],
   "source": [
    "for i in uniqueyear:\n",
    "    yearlist=df[df['year']==i]\n",
    "    for j in uniquecon:\n",
    "        conlist=yearlist[df['continent']==j]\n",
    "        print(f\"{i}년 {j:^10}지역 기대수명 평균 : {conlist['lifeExp'].mean():.2f}   gdp 평균 : {conlist['gdpPercap'].mean():.2f}\")"
   ]
  },
  {
   "cell_type": "code",
   "execution_count": 4,
   "metadata": {},
   "outputs": [
    {
     "name": "stdout",
     "output_type": "stream",
     "text": [
      "       country continent  year  lifeExp       pop   gdpPercap\n",
      "0  Afghanistan      Asia  1952   28.801   8425333  779.445314\n",
      "1  Afghanistan      Asia  1957   30.332   9240934  820.853030\n",
      "2  Afghanistan      Asia  1962   31.997  10267083  853.100710 \n",
      "------\n",
      "                  lifeExp     gdpPercap\n",
      "year continent                         \n",
      "1952 Africa     39.135500   1252.572466\n",
      "     Americas   53.279840   4079.062552\n",
      "     Asia       46.314394   5195.484004\n",
      "     Europe     64.408500   5661.057435\n",
      "     Oceania    69.255000  10298.085650\n",
      "1957 Africa     41.266346   1385.236062\n",
      "     Americas   55.960280   4616.043733\n",
      "     Asia       49.318544   5787.732940\n",
      "     Europe     66.703067   6963.012816\n",
      "     Oceania    70.295000  11598.522455\n",
      "1962 Africa     43.319442   1598.078825\n",
      "     Americas   58.398760   4901.541870\n",
      "     Asia       51.563223   5729.369625\n",
      "     Europe     68.539233   8365.486814\n",
      "     Oceania    71.085000  12696.452430\n",
      "1967 Africa     45.334538   2050.363801\n",
      "     Americas   60.410920   5668.253496\n",
      "     Asia       54.663640   5971.173374\n",
      "     Europe     69.737600  10143.823757\n",
      "     Oceania    71.310000  14495.021790\n",
      "1972 Africa     47.450942   2339.615674\n",
      "     Americas   62.394920   6491.334139\n",
      "     Asia       57.319269   8187.468699\n",
      "     Europe     70.775033  12479.575246\n",
      "     Oceania    71.910000  16417.333380\n",
      "1977 Africa     49.580423   2585.938508\n",
      "     Americas   64.391560   7352.007126\n",
      "     Asia       59.610556   7791.314020\n",
      "     Europe     71.937767  14283.979110\n",
      "     Oceania    72.855000  17283.957605\n",
      "1982 Africa     51.592865   2481.592960\n",
      "     Americas   66.228840   7506.737088\n",
      "     Asia       62.617939   7434.135157\n",
      "     Europe     72.806400  15617.896551\n",
      "     Oceania    74.290000  18554.709840\n",
      "1987 Africa     53.344788   2282.668991\n",
      "     Americas   68.090720   7793.400261\n",
      "     Asia       64.851182   7608.226508\n",
      "     Europe     73.642167  17214.310727\n",
      "     Oceania    75.320000  20448.040160\n",
      "1992 Africa     53.629577   2281.810333\n",
      "     Americas   69.568360   8044.934406\n",
      "     Asia       66.537212   8639.690248\n",
      "     Europe     74.440100  17061.568084\n",
      "     Oceania    76.945000  20894.045885\n",
      "1997 Africa     53.598269   2378.759555\n",
      "     Americas   71.150480   8889.300863\n",
      "     Asia       68.020515   9834.093295\n",
      "     Europe     75.505167  19076.781802\n",
      "     Oceania    78.190000  24024.175170\n",
      "2002 Africa     53.325231   2599.385159\n",
      "     Americas   72.422040   9287.677107\n",
      "     Asia       69.233879  10174.090397\n",
      "     Europe     76.700600  21711.732422\n",
      "     Oceania    79.740000  26938.778040\n",
      "2007 Africa     54.806038   3089.032605\n",
      "     Americas   73.608120  11003.031625\n",
      "     Asia       70.728485  12473.026870\n",
      "     Europe     77.648600  25054.481636\n",
      "     Oceania    80.719500  29810.188275\n"
     ]
    },
    {
     "name": "stderr",
     "output_type": "stream",
     "text": [
      "C:\\anaconda3_5.2\\lib\\site-packages\\ipykernel_launcher.py:2: FutureWarning: Indexing with multiple keys (implicitly converted to a tuple of keys) will be deprecated, use a list instead.\n",
      "  \n"
     ]
    }
   ],
   "source": [
    "print(df.head(3), \"\\n------\")\n",
    "multi_group_var=df.groupby(['year','continent'])['lifeExp','gdpPercap'].mean()\n",
    "print(multi_group_var)"
   ]
  },
  {
   "cell_type": "code",
   "execution_count": null,
   "metadata": {},
   "outputs": [],
   "source": []
  }
 ],
 "metadata": {
  "kernelspec": {
   "display_name": "Python 3",
   "language": "python",
   "name": "python3"
  },
  "language_info": {
   "codemirror_mode": {
    "name": "ipython",
    "version": 3
   },
   "file_extension": ".py",
   "mimetype": "text/x-python",
   "name": "python",
   "nbconvert_exporter": "python",
   "pygments_lexer": "ipython3",
   "version": "3.6.5"
  }
 },
 "nbformat": 4,
 "nbformat_minor": 2
}
