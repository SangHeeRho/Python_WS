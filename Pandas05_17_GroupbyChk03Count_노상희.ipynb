{
 "cells": [
  {
   "cell_type": "code",
   "execution_count": 2,
   "metadata": {},
   "outputs": [],
   "source": [
    "import pandas\n",
    "df=pandas.read_csv('./data/gapminder.tsv',sep='\\t')"
   ]
  },
  {
   "cell_type": "code",
   "execution_count": 3,
   "metadata": {},
   "outputs": [
    {
     "name": "stdout",
     "output_type": "stream",
     "text": [
      "continent\n",
      "Africa      624\n",
      "Americas    300\n",
      "Asia        396\n",
      "Europe      360\n",
      "Oceania      24\n",
      "Name: year, dtype: int64\n"
     ]
    }
   ],
   "source": [
    "print(df.groupby('continent')['year'].count())"
   ]
  },
  {
   "cell_type": "code",
   "execution_count": 4,
   "metadata": {},
   "outputs": [
    {
     "name": "stdout",
     "output_type": "stream",
     "text": [
      "<pandas.core.groupby.generic.DataFrameGroupBy object at 0x000002B06164BBA8>\n"
     ]
    }
   ],
   "source": [
    "print(df.groupby('continent'))"
   ]
  },
  {
   "cell_type": "code",
   "execution_count": 7,
   "metadata": {},
   "outputs": [
    {
     "name": "stdout",
     "output_type": "stream",
     "text": [
      "[1952 1957 1962 1967 1972 1977 1982 1987 1992 1997 2002 2007]\n"
     ]
    },
    {
     "data": {
      "text/plain": [
       "numpy.ndarray"
      ]
     },
     "execution_count": 7,
     "metadata": {},
     "output_type": "execute_result"
    }
   ],
   "source": [
    "df['year'].unique()\n",
    "uniList1=df['year'].unique()\n",
    "print(uniList1)\n",
    "type(uniList1)"
   ]
  },
  {
   "cell_type": "code",
   "execution_count": 9,
   "metadata": {},
   "outputs": [
    {
     "name": "stdout",
     "output_type": "stream",
     "text": [
      "1952 ====> 1 :\n",
      "0 \n",
      "====>2 \n",
      ": Empty DataFrame\n",
      "Columns: [country, continent, year, lifeExp, pop, gdpPercap]\n",
      "Index: [] \n",
      "====>3 : (0, 6)\n",
      "1957 ====> 1 :\n",
      "0 \n",
      "====>2 \n",
      ": Empty DataFrame\n",
      "Columns: [country, continent, year, lifeExp, pop, gdpPercap]\n",
      "Index: [] \n",
      "====>3 : (0, 6)\n",
      "1962 ====> 1 :\n",
      "0 \n",
      "====>2 \n",
      ": Empty DataFrame\n",
      "Columns: [country, continent, year, lifeExp, pop, gdpPercap]\n",
      "Index: [] \n",
      "====>3 : (0, 6)\n",
      "1967 ====> 1 :\n",
      "0 \n",
      "====>2 \n",
      ": Empty DataFrame\n",
      "Columns: [country, continent, year, lifeExp, pop, gdpPercap]\n",
      "Index: [] \n",
      "====>3 : (0, 6)\n",
      "1972 ====> 1 :\n",
      "0 \n",
      "====>2 \n",
      ": Empty DataFrame\n",
      "Columns: [country, continent, year, lifeExp, pop, gdpPercap]\n",
      "Index: [] \n",
      "====>3 : (0, 6)\n",
      "1977 ====> 1 :\n",
      "0 \n",
      "====>2 \n",
      ": Empty DataFrame\n",
      "Columns: [country, continent, year, lifeExp, pop, gdpPercap]\n",
      "Index: [] \n",
      "====>3 : (0, 6)\n",
      "1982 ====> 1 :\n",
      "0 \n",
      "====>2 \n",
      ": Empty DataFrame\n",
      "Columns: [country, continent, year, lifeExp, pop, gdpPercap]\n",
      "Index: [] \n",
      "====>3 : (0, 6)\n",
      "1987 ====> 1 :\n",
      "0 \n",
      "====>2 \n",
      ": Empty DataFrame\n",
      "Columns: [country, continent, year, lifeExp, pop, gdpPercap]\n",
      "Index: [] \n",
      "====>3 : (0, 6)\n",
      "1992 ====> 1 :\n",
      "0 \n",
      "====>2 \n",
      ": Empty DataFrame\n",
      "Columns: [country, continent, year, lifeExp, pop, gdpPercap]\n",
      "Index: [] \n",
      "====>3 : (0, 6)\n",
      "1997 ====> 1 :\n",
      "0 \n",
      "====>2 \n",
      ": Empty DataFrame\n",
      "Columns: [country, continent, year, lifeExp, pop, gdpPercap]\n",
      "Index: [] \n",
      "====>3 : (0, 6)\n",
      "2002 ====> 1 :\n",
      "0 \n",
      "====>2 \n",
      ": Empty DataFrame\n",
      "Columns: [country, continent, year, lifeExp, pop, gdpPercap]\n",
      "Index: [] \n",
      "====>3 : (0, 6)\n",
      "2007 ====> 1 :\n",
      "0 \n",
      "====>2 \n",
      ": Empty DataFrame\n",
      "Columns: [country, continent, year, lifeExp, pop, gdpPercap]\n",
      "Index: [] \n",
      "====>3 : (0, 6)\n"
     ]
    }
   ],
   "source": [
    "for idx in uniList1:\n",
    "    print(idx,\"====> 1 :\")\n",
    "    grYear = df[df['continent']==idx]\n",
    "    print(len(grYear),\"\\n====>2 \\n:\",grYear.head(3),\"\\n====>3 :\",grYear.shape)"
   ]
  }
 ],
 "metadata": {
  "kernelspec": {
   "display_name": "Python 3",
   "language": "python",
   "name": "python3"
  },
  "language_info": {
   "codemirror_mode": {
    "name": "ipython",
    "version": 3
   },
   "file_extension": ".py",
   "mimetype": "text/x-python",
   "name": "python",
   "nbconvert_exporter": "python",
   "pygments_lexer": "ipython3",
   "version": "3.6.5"
  }
 },
 "nbformat": 4,
 "nbformat_minor": 2
}
