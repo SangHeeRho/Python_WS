{
 "cells": [
  {
   "cell_type": "code",
   "execution_count": 2,
   "metadata": {},
   "outputs": [],
   "source": [
    "import pandas\n",
    "df=pandas.read_csv('./data/gapminder.tsv',sep='\\t')"
   ]
  },
  {
   "cell_type": "code",
   "execution_count": 3,
   "metadata": {},
   "outputs": [
    {
     "data": {
      "text/plain": [
       "pandas.core.frame.DataFrame"
      ]
     },
     "execution_count": 3,
     "metadata": {},
     "output_type": "execute_result"
    }
   ],
   "source": [
    "type(df)"
   ]
  },
  {
   "cell_type": "code",
   "execution_count": 4,
   "metadata": {},
   "outputs": [
    {
     "data": {
      "text/plain": [
       "pandas.core.series.Series"
      ]
     },
     "execution_count": 4,
     "metadata": {},
     "output_type": "execute_result"
    }
   ],
   "source": [
    "type(df['pop'])"
   ]
  },
  {
   "cell_type": "code",
   "execution_count": 6,
   "metadata": {},
   "outputs": [
    {
     "name": "stdout",
     "output_type": "stream",
     "text": [
      "pandas.core.groupby.generic.DataFrameGroupBy\n",
      "<pandas.core.groupby.generic.SeriesGroupBy object at 0x00000240E7DD85C0>\n"
     ]
    },
    {
     "data": {
      "text/plain": [
       "0      8425333\n",
       "1      9240934\n",
       "2     10267083\n",
       "3     11537966\n",
       "4     13079460\n",
       "5     14880372\n",
       "6     12881816\n",
       "7     13867957\n",
       "8     16317921\n",
       "9     22227415\n",
       "10    25268405\n",
       "11    31889923\n",
       "12     1282697\n",
       "13     1476505\n",
       "14     1728137\n",
       "15     1984060\n",
       "16     2263554\n",
       "17     2509048\n",
       "18     2780097\n",
       "19     3075321\n",
       "20     3326498\n",
       "21     3428038\n",
       "22     3508512\n",
       "23     3600523\n",
       "24     9279525\n",
       "25    10270856\n",
       "26    11000948\n",
       "27    12760499\n",
       "28    14760787\n",
       "29    17152804\n",
       "30    20033753\n",
       "31    23254956\n",
       "32    26298373\n",
       "33    29072015\n",
       "34    31287142\n",
       "35    33333216\n",
       "36     4232095\n",
       "37     4561361\n",
       "38     4826015\n",
       "39     5247469\n",
       "40     5894858\n",
       "41     6162675\n",
       "42     7016384\n",
       "43     7874230\n",
       "44     8735988\n",
       "45     9875024\n",
       "46    10866106\n",
       "47    12420476\n",
       "48    17876956\n",
       "49    19610538\n",
       "50    21283783\n",
       "51    22934225\n",
       "52    24779799\n",
       "53    26983828\n",
       "54    29341374\n",
       "55    31620918\n",
       "56    33958947\n",
       "57    36203463\n",
       "58    38331121\n",
       "59    40301927\n",
       "Name: pop, dtype: int64"
      ]
     },
     "execution_count": 6,
     "metadata": {},
     "output_type": "execute_result"
    }
   ],
   "source": [
    "grouped_year_df=df.groupby('year') #year끼리 묶음\n",
    "print(type(grouped_year_df))\n",
    "print(grouped_year_df[\"pop\"])\n",
    "grouped_year_df[\"pop\"].head() #양이 많아서 .head()치면 볼 수 있음"
   ]
  },
  {
   "cell_type": "code",
   "execution_count": 8,
   "metadata": {},
   "outputs": [
    {
     "data": {
      "text/plain": [
       "year\n",
       "1952    1.695040e+07\n",
       "1957    1.876341e+07\n",
       "1962    2.042101e+07\n",
       "1967    2.265830e+07\n",
       "1972    2.518998e+07\n",
       "1977    2.767638e+07\n",
       "1982    3.020730e+07\n",
       "1987    3.303857e+07\n",
       "1992    3.599092e+07\n",
       "1997    3.883947e+07\n",
       "2002    4.145759e+07\n",
       "2007    4.402122e+07\n",
       "Name: pop, dtype: float64"
      ]
     },
     "execution_count": 8,
     "metadata": {},
     "output_type": "execute_result"
    }
   ],
   "source": [
    "grouped_year_df[\"pop\"].mean()"
   ]
  },
  {
   "cell_type": "code",
   "execution_count": 9,
   "metadata": {},
   "outputs": [
    {
     "data": {
      "text/plain": [
       "pandas.core.series.Series"
      ]
     },
     "execution_count": 9,
     "metadata": {},
     "output_type": "execute_result"
    }
   ],
   "source": [
    "type(grouped_year_df[\"pop\"].mean())"
   ]
  },
  {
   "cell_type": "code",
   "execution_count": null,
   "metadata": {},
   "outputs": [],
   "source": []
  }
 ],
 "metadata": {
  "kernelspec": {
   "display_name": "Python 3",
   "language": "python",
   "name": "python3"
  },
  "language_info": {
   "codemirror_mode": {
    "name": "ipython",
    "version": 3
   },
   "file_extension": ".py",
   "mimetype": "text/x-python",
   "name": "python",
   "nbconvert_exporter": "python",
   "pygments_lexer": "ipython3",
   "version": "3.6.5"
  }
 },
 "nbformat": 4,
 "nbformat_minor": 2
}
