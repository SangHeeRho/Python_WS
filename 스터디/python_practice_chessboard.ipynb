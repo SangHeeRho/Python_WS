{
 "cells": [
  {
   "cell_type": "code",
   "execution_count": 45,
   "metadata": {},
   "outputs": [
    {
     "name": "stdout",
     "output_type": "stream",
     "text": [
      "12\n"
     ]
    }
   ],
   "source": [
    "'''\n",
    "지민이는 자신의 저택에서 MN개의 단위 정사각형으로 나누어져 있는\n",
    "M*N 크기의 보드를 찾았다. 어떤 정사각형은 검은색으로 칠해져 있고,\n",
    "나머지는 흰색으로 칠해져 있다. 지민이는 이 보드를 잘라서 8*8 크기의\n",
    "체스판으로 만들려고 한다.\n",
    "\n",
    "체스판은 검은색과 흰색이 번갈아서 칠해져 있어야 한다. 구체적으로, \n",
    "각 칸이 검은색과 흰색 중 하나로 색칠되어 있고, 변을 공유하는 두 개의\n",
    "사각형은 다른 색으로 칠해져 있어야 한다. 따라서 이 정의를 따르면 \n",
    "체스판을 색칠하는 경우는 두 가지뿐이다. 하나는 맨 왼쪽 위 칸이 흰색인\n",
    "경우, 하나는 검은색인 경우이다.\n",
    "\n",
    "보드가 체스판처럼 칠해져 있다는 보장이 없어서, 지민이는 8*8 크기의\n",
    "체스판으로 잘라낸 후에 몇 개의 정사각형을 다시 칠해야겠다고 생각했다.\n",
    "당연히 8*8 크기는 아무데서나 골라도 된다. 지민이가 다시 칠해야 하는\n",
    "정사각형의 최소 개수를 구하는 프로그램을 작성하시오.'''\n",
    "import numpy as np\n",
    "board01 =list('''\n",
    "BBBBBBBBWBWBW\n",
    "BBBBBBBBBWBWB\n",
    "BBBBBBBBWBWBW\n",
    "BBBBBBBBBWBWB\n",
    "BBBBBBBBWBWBW\n",
    "BBBBBBBBBWBWB\n",
    "BBBBBBBBWBWBW\n",
    "BBBBBBBBBWBWB\n",
    "WWWWWWWWWWBWB\n",
    "WWWWWWWWWWBWB''')\n",
    "count01 = 0\n",
    "count02 = 0\n",
    "\n",
    "for i in range(len(board01)):\n",
    "    if board01[i] == '\\n':\n",
    "        count01 +=1\n",
    "    else:\n",
    "        count02 +=1\n",
    "count03 =count02//count01\n",
    "for i in range(count01):\n",
    "    board01.remove('\\n')\n",
    "board02 =np.array([board01])\n",
    "board03 =board02.reshape(count01,count03)\n",
    "\n",
    "count_repair=[]\n",
    "for i in range(count01):\n",
    "    for j in range(count03):\n",
    "        if (i+7) < count01 and (j+7) < count03:\n",
    "            board_cut = board03[i:i+8,j:j+8]\n",
    "            count_w =0\n",
    "            count_b = 0\n",
    "            for k in range(8):\n",
    "                for l in range(8):\n",
    "                    if (k+l)%2 == 0:\n",
    "                        if board_cut[k,l] != 'W':\n",
    "                            count_w+=1\n",
    "                        if board_cut[k,l] !='B':\n",
    "                            count_b+=1\n",
    "                    else :\n",
    "                        if board_cut[k,l] != 'B':\n",
    "                            count_w+=1\n",
    "                        if board_cut[k,l] !='W':\n",
    "                            count_b+=1\n",
    "            count_repair.append(min(count_b,count_w))\n",
    "        else : continue\n",
    "print(min(count_repair))\n",
    "\n",
    "            "
   ]
  },
  {
   "cell_type": "code",
   "execution_count": null,
   "metadata": {},
   "outputs": [],
   "source": []
  }
 ],
 "metadata": {
  "kernelspec": {
   "display_name": "Python 3",
   "language": "python",
   "name": "python3"
  },
  "language_info": {
   "codemirror_mode": {
    "name": "ipython",
    "version": 3
   },
   "file_extension": ".py",
   "mimetype": "text/x-python",
   "name": "python",
   "nbconvert_exporter": "python",
   "pygments_lexer": "ipython3",
   "version": "3.6.5"
  }
 },
 "nbformat": 4,
 "nbformat_minor": 2
}
