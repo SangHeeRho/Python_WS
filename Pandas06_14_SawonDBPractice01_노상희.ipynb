{
 "cells": [
  {
   "cell_type": "code",
   "execution_count": 4,
   "metadata": {},
   "outputs": [
    {
     "name": "stdout",
     "output_type": "stream",
     "text": [
      "    sabun  saname  deptno  sajob  sapay         sahire  sasex  samgr\n",
      "0       1   '홍길동'      10   '회장'   5000   '1980/01/01'   '남자'   null\n",
      "1       2   '한국남'      20   '부장'   3000   '1988/11/01'   '남자'      1\n",
      "2       3   '이순신'      20   '과장'   3500   '1985/03/01'   '남자'      2\n",
      "3       5   '이순라'      20   '사원'   1200   '1990/05/01'   '여자'      3\n",
      "4       7   '놀기만'      20   '과장'   2300   '1996/06/01'   '여자'      2\n",
      "5      11   '뷰별나'      20   '과장'   1600   '1989/12/01'   '여자'      2\n",
      "6      14   '채시라'      20   '사원'   3400   '1993/10/01'   '여자'      3\n",
      "7      17   '이성계'      30   '부장'   2803   '1984/05/01'   '남자'      1\n",
      "8      13   '무궁화'      10   '부장'   3000   '1996/11/01'   '여자'      1\n",
      "9      19   '임꺽정'      20   '사원'   2200   '1988/04/01'   '남자'      7\n",
      "10     20   '깨똥이'      10   '과장'   4500   '1990/05/01'   '남자'     13\n",
      "11      6   '공부만'      30   '과장'   4003   '1995/05/01'   '남자'     17\n",
      "12      8   '채송화'      30   '대리'   1703   '1992/06/01'   '여자'     17\n",
      "13      4   '이미라'      30   '대리'   2503   '1983/04/01'   '여자'     17\n",
      "14     10   '공부해'      30   '사원'   1303   '1988/11/01'   '남자'      4\n",
      "15     12   '뷰명한'      10   '대리'   1800   '1990/10/01'   '남자'     20\n",
      "16      9   '무궁화'      10   '사원'   1100   '1984/08/01'   '여자'     12\n",
      "17     15   '최진실'      10   '사원'   2000   '1991/04/01'   '여자'     12\n",
      "18     16   '김유신'      30   '사원'    400   '1981/04/01'   '남자'      4\n",
      "19     18   '강감찬'      30   '사원'   1003   '1986/07/01'   '남자'      4\n"
     ]
    }
   ],
   "source": [
    "#문제01] SawonDB 데이터에서 입사년도가 88년도인 사원 출력.\n",
    "import pandas\n",
    "df=pandas.read_csv('./data/sawonDB.csv',header=None)\n",
    "df.columns=['sabun','saname','deptno','sajob','sapay','sahire','sasex','samgr']\n",
    "print(df)"
   ]
  },
  {
   "cell_type": "code",
   "execution_count": 5,
   "metadata": {},
   "outputs": [
    {
     "name": "stdout",
     "output_type": "stream",
     "text": [
      "    sabun  saname  deptno  sajob  sapay         sahire  sasex  samgr\n",
      "0       1    홍길동       10    회장    5000    1980/01/01     남자    null\n",
      "1       2    한국남       20    부장    3000    1988/11/01     남자       1\n",
      "2       3    이순신       20    과장    3500    1985/03/01     남자       2\n",
      "3       5    이순라       20    사원    1200    1990/05/01     여자       3\n",
      "4       7    놀기만       20    과장    2300    1996/06/01     여자       2\n",
      "5      11    뷰별나       20    과장    1600    1989/12/01     여자       2\n",
      "6      14    채시라       20    사원    3400    1993/10/01     여자       3\n",
      "7      17    이성계       30    부장    2803    1984/05/01     남자       1\n",
      "8      13    무궁화       10    부장    3000    1996/11/01     여자       1\n",
      "9      19    임꺽정       20    사원    2200    1988/04/01     남자       7\n",
      "10     20    깨똥이       10    과장    4500    1990/05/01     남자      13\n",
      "11      6    공부만       30    과장    4003    1995/05/01     남자      17\n",
      "12      8    채송화       30    대리    1703    1992/06/01     여자      17\n",
      "13      4    이미라       30    대리    2503    1983/04/01     여자      17\n",
      "14     10    공부해       30    사원    1303    1988/11/01     남자       4\n",
      "15     12    뷰명한       10    대리    1800    1990/10/01     남자      20\n",
      "16      9    무궁화       10    사원    1100    1984/08/01     여자      12\n",
      "17     15    최진실       10    사원    2000    1991/04/01     여자      12\n",
      "18     16    김유신       30    사원     400    1981/04/01     남자       4\n",
      "19     18    강감찬       30    사원    1003    1986/07/01     남자       4\n"
     ]
    }
   ],
   "source": [
    "df=df.replace(\"'\", \" \", regex=True)\n",
    "print(df)"
   ]
  },
  {
   "cell_type": "code",
   "execution_count": 3,
   "metadata": {},
   "outputs": [],
   "source": [
    "#문제01 1988년에 입사한 레코드 출력\n",
    "# sahire_df=df['sahire']\n",
    "# print(type(year_df))\n",
    "# print(year_df[1:5]=1998)"
   ]
  },
  {
   "cell_type": "code",
   "execution_count": 2,
   "metadata": {},
   "outputs": [],
   "source": [
    "#문제02 2번 4월에 입사한 레코드 출력"
   ]
  },
  {
   "cell_type": "code",
   "execution_count": null,
   "metadata": {},
   "outputs": [],
   "source": [
    "#문제03 3번 사원번호 짝수 레코드만 출력하기"
   ]
  },
  {
   "cell_type": "code",
   "execution_count": 12,
   "metadata": {},
   "outputs": [
    {
     "name": "stdout",
     "output_type": "stream",
     "text": [
      "sajob\n",
      "  과장     3180.600000\n",
      "  대리     2002.000000\n",
      "  부장     2934.333333\n",
      "  사원     1575.750000\n",
      "  회장     5000.000000\n",
      "Name: sapay, dtype: float64\n"
     ]
    }
   ],
   "source": [
    "#문제04 4번 직위별 연봉 평균\n",
    "print(df.groupby('sajob')['sapay'].mean())"
   ]
  },
  {
   "cell_type": "code",
   "execution_count": 10,
   "metadata": {
    "scrolled": true
   },
   "outputs": [
    {
     "name": "stdout",
     "output_type": "stream",
     "text": [
      "sajob  sasex\n",
      "  과장     남자     4001.0\n",
      "         여자     1950.0\n",
      "  대리     남자     1800.0\n",
      "         여자     2103.0\n",
      "  부장     남자     2901.5\n",
      "         여자     3000.0\n",
      "  사원     남자     1226.5\n",
      "         여자     1925.0\n",
      "  회장     남자     5000.0\n",
      "Name: sapay, dtype: float64\n"
     ]
    }
   ],
   "source": [
    "#문제05] SawonDB 데이터에서 직위별, 성별 급여평균을 출력하세요\n",
    "#--------groupby 사용--------\n",
    "print(df.groupby(['sajob','sasex'])['sapay'].mean())"
   ]
  },
  {
   "cell_type": "code",
   "execution_count": null,
   "metadata": {},
   "outputs": [],
   "source": []
  }
 ],
 "metadata": {
  "kernelspec": {
   "display_name": "Python 3",
   "language": "python",
   "name": "python3"
  },
  "language_info": {
   "codemirror_mode": {
    "name": "ipython",
    "version": 3
   },
   "file_extension": ".py",
   "mimetype": "text/x-python",
   "name": "python",
   "nbconvert_exporter": "python",
   "pygments_lexer": "ipython3",
   "version": "3.6.5"
  }
 },
 "nbformat": 4,
 "nbformat_minor": 2
}
