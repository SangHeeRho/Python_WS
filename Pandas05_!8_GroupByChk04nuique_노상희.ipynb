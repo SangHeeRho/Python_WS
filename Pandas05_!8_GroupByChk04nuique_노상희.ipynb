{
 "cells": [
  {
   "cell_type": "code",
   "execution_count": 2,
   "metadata": {},
   "outputs": [],
   "source": [
    "import pandas\n",
    "df=pandas.read_csv('./data/gapminder.tsv',sep='\\t')"
   ]
  },
  {
   "cell_type": "code",
   "execution_count": 3,
   "metadata": {},
   "outputs": [
    {
     "name": "stdout",
     "output_type": "stream",
     "text": [
      "continent\n",
      "Africa      12\n",
      "Americas    12\n",
      "Asia        12\n",
      "Europe      12\n",
      "Oceania     12\n",
      "Name: year, dtype: int64 \n",
      "===>\n",
      "continent\n",
      "Africa      [1952, 1957, 1962, 1967, 1972, 1977, 1982, 198...\n",
      "Americas    [1952, 1957, 1962, 1967, 1972, 1977, 1982, 198...\n",
      "Asia        [1952, 1957, 1962, 1967, 1972, 1977, 1982, 198...\n",
      "Europe      [1952, 1957, 1962, 1967, 1972, 1977, 1982, 198...\n",
      "Oceania     [1952, 1957, 1962, 1967, 1972, 1977, 1982, 198...\n",
      "Name: year, dtype: object \n",
      "====>\n",
      "[1952 1957 1962 1967 1972 1977 1982 1987 1992 1997 2002 2007] \n",
      "====>\n"
     ]
    }
   ],
   "source": [
    "print(df.groupby('continent')['year'].nunique(),\"\\n===>\")\n",
    "print(df.groupby('continent')['year'].unique(),\"\\n====>\")\n",
    "print(df.groupby('continent')['year'].unique()['Africa'],\"\\n====>\")"
   ]
  },
  {
   "cell_type": "code",
   "execution_count": null,
   "metadata": {},
   "outputs": [],
   "source": []
  }
 ],
 "metadata": {
  "kernelspec": {
   "display_name": "Python 3",
   "language": "python",
   "name": "python3"
  },
  "language_info": {
   "codemirror_mode": {
    "name": "ipython",
    "version": 3
   },
   "file_extension": ".py",
   "mimetype": "text/x-python",
   "name": "python",
   "nbconvert_exporter": "python",
   "pygments_lexer": "ipython3",
   "version": "3.6.5"
  }
 },
 "nbformat": 4,
 "nbformat_minor": 2
}
