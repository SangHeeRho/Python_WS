{
 "cells": [
  {
   "cell_type": "code",
   "execution_count": 1,
   "metadata": {},
   "outputs": [
    {
     "name": "stdout",
     "output_type": "stream",
     "text": [
      "28\n",
      "30\n",
      "None\n",
      "30\n",
      "중위수 mMedian() : None\n"
     ]
    }
   ],
   "source": [
    "datalist=[28,31,24,25,30,32,20,30,31,26,31]\n",
    "\n",
    "#--------method01---------\n",
    "# def mMean(): #평균값 구하기\n",
    "#     _sum=0\n",
    "#     for i in range(len(datalist)):  \n",
    "#         _sum+=datalist[i]\n",
    "#     return int(_sum/len(datalist))\n",
    "# print(mMean())\n",
    "# print(f'평균 mMean() : {mMean()}')\n",
    "\n",
    "#----------method02---------\n",
    "def mMean():\n",
    "    a=0\n",
    "    for i in datalist:\n",
    "        a=a+i\n",
    "    b=a/len(datalist)\n",
    "    return int(b)\n",
    "print(mMean())\n",
    "\n",
    "# # #     pass\n",
    "\n",
    "def mMedian(): #중간값 구하기\n",
    "    L=len(datalist)/2\n",
    "    a=sorted(datalist)\n",
    "    if len(a) %2 != 0 :\n",
    "        print(a[int(L)])\n",
    "    else:\n",
    "        return (a[int(L-1)]+a[int(L)])/2\n",
    "print(mMedian())\n",
    "print(f'중위수 mMedian() : {mMedian()}')\n",
    "#     #Data Sort 홀수 : 32\n",
    "#     #Data Sort 짝수 : 2개의 평균\n",
    "#     pass"
   ]
  }
 ],
 "metadata": {
  "kernelspec": {
   "display_name": "Python 3",
   "language": "python",
   "name": "python3"
  },
  "language_info": {
   "codemirror_mode": {
    "name": "ipython",
    "version": 3
   },
   "file_extension": ".py",
   "mimetype": "text/x-python",
   "name": "python",
   "nbconvert_exporter": "python",
   "pygments_lexer": "ipython3",
   "version": "3.6.5"
  }
 },
 "nbformat": 4,
 "nbformat_minor": 2
}
