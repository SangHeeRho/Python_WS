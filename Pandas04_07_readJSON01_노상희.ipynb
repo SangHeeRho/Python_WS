{
 "cells": [
  {
   "cell_type": "code",
   "execution_count": 1,
   "metadata": {},
   "outputs": [
    {
     "name": "stdout",
     "output_type": "stream",
     "text": [
      "           name  year        developer opensource\n",
      "NumPy            2006  Travis Oliphant       True\n",
      "matplotlib       2003   John D. Hunter       True\n",
      "pandas           2008    Wes Mckinneye       True \n",
      "\n",
      "Index(['NumPy', 'matplotlib', 'pandas'], dtype='object')\n"
     ]
    }
   ],
   "source": [
    "#read_json()\n",
    "#In[6]:\n",
    "import pandas as pd\n",
    "#read_json() 함수로 데이터프레임 변환\n",
    "df = pd.read_json('./../DataSet/read_json_sample.json')\n",
    "print(df,'\\n')\n",
    "print(df.index)"
   ]
  },
  {
   "cell_type": "code",
   "execution_count": null,
   "metadata": {},
   "outputs": [],
   "source": []
  }
 ],
 "metadata": {
  "kernelspec": {
   "display_name": "Python 3",
   "language": "python",
   "name": "python3"
  },
  "language_info": {
   "codemirror_mode": {
    "name": "ipython",
    "version": 3
   },
   "file_extension": ".py",
   "mimetype": "text/x-python",
   "name": "python",
   "nbconvert_exporter": "python",
   "pygments_lexer": "ipython3",
   "version": "3.6.5"
  }
 },
 "nbformat": 4,
 "nbformat_minor": 2
}
